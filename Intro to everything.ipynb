{
 "cells": [
  {
   "cell_type": "markdown",
   "id": "702f5e3b",
   "metadata": {},
   "source": [
    "<h1> using Jupyter notebooks </h1>\n",
    "\n",
    "<p> Jupyter is cell-based, so everything is in a cell.</p> \n",
    "\n",
    "<p> To run a cell click on it and click the Run button above. Alternatively you can use shift+enter. </p>"
   ]
  },
  {
   "cell_type": "markdown",
   "id": "cc6a0edd",
   "metadata": {},
   "source": [
    "<h1>Intro to python in Jupyter notebooks</h1>\n",
    "\n",
    "<p>You can think of this as a python console (where things run) and everytime you run a (code) cell is like you enter that code on the python console.</p>\n",
    "\n",
    "<p>For example if you run the next cell you will see the result of adding and multiplying some numbers</p>"
   ]
  },
  {
   "cell_type": "code",
   "execution_count": null,
   "id": "632ded3c",
   "metadata": {},
   "outputs": [],
   "source": [
    "#this is a code comment that won't do a thing\n",
    "print(1+2+3+4+5+6+7+8+9+10);\n",
    "print(1*2*3*4*5*6*7*8*9*10);\n",
    "#comments start with the # symbol"
   ]
  },
  {
   "cell_type": "markdown",
   "id": "5b99851c",
   "metadata": {},
   "source": [
    "There are three basic things that you do in programming:"
   ]
  },
  {
   "cell_type": "markdown",
   "id": "85763905",
   "metadata": {},
   "source": [
    "<h3>Assigment statements</h3>\n",
    "\n",
    "Where you assign a value (number, text, boolean, array of values, etc) to a variable"
   ]
  },
  {
   "cell_type": "code",
   "execution_count": null,
   "id": "7b574ab7",
   "metadata": {
    "scrolled": true
   },
   "outputs": [],
   "source": [
    "#assigment statements CAN end with a semi-colon\n",
    "x=4+3;\n",
    "y=x*x;\n",
    "name=\"Juan Alexander Macias de la villa del Carmen\";\n",
    "moretext=\"My name is \" + str(name) + \" and I'm \" + str(y) + \" years old\";\n",
    "\n",
    "# here we \"print\" (display/show) stuff\n",
    "print(moretext);"
   ]
  },
  {
   "cell_type": "markdown",
   "id": "41ed4649",
   "metadata": {},
   "source": [
    "<h3>Control sequences</h3>\n",
    "\n",
    "Where you tell him\n",
    "<ul>\n",
    "    <li><b>if</b> condition do this or <b>else</b> do that,</li>\n",
    "    <li>or <b>for</b> every item do this,</li>\n",
    "    <li>or <b>while</b> this condition is true do this.</li>\n",
    "</ul>\n",
    "followed by a colon and the instructions"
   ]
  },
  {
   "cell_type": "code",
   "execution_count": null,
   "id": "5dfa75ea",
   "metadata": {},
   "outputs": [],
   "source": [
    "goright=True;\n",
    "\n",
    "if goright:\n",
    "    print(\"you should be going right\");\n",
    "else:\n",
    "    print(\"you should be going left\");"
   ]
  },
  {
   "cell_type": "code",
   "execution_count": null,
   "id": "012fc710",
   "metadata": {},
   "outputs": [],
   "source": [
    "manynumbers=[2,3,5,7,11,13,17,19];\n",
    "\n",
    "print(\"the following numbers are the primes below 20:\")\n",
    "for number in manynumbers:\n",
    "    print(number);"
   ]
  },
  {
   "cell_type": "code",
   "execution_count": null,
   "id": "34ff1960",
   "metadata": {},
   "outputs": [],
   "source": [
    "counter=10;\n",
    "\n",
    "print(\"you will be destroyed on:\");\n",
    "while counter>0:\n",
    "    print(counter);\n",
    "    counter=counter-1;\n",
    "\n",
    "#this happens after the while is done, so the counter here is 0\n",
    "print(\"detroy!!!!!\")"
   ]
  },
  {
   "cell_type": "markdown",
   "id": "abc8c9a4",
   "metadata": {},
   "source": [
    "<h3>Function calls</h3>\n",
    "\n",
    "Where you use a function to make your life easier (usually from a library or that you made)"
   ]
  },
  {
   "cell_type": "code",
   "execution_count": null,
   "id": "5b0c6938",
   "metadata": {},
   "outputs": [],
   "source": [
    "# the print function we've been using so far is a function call\n",
    "print(\"I made sweet bread this week\");  "
   ]
  },
  {
   "cell_type": "code",
   "execution_count": null,
   "id": "f0cf400e",
   "metadata": {},
   "outputs": [],
   "source": [
    "mynumbers=[1,3,5,7,9];\n",
    "\n",
    "totalsum=sum(mynumbers); #here I use the function in the middle of an assigment\n",
    "\n",
    "print(totalsum);"
   ]
  },
  {
   "cell_type": "markdown",
   "id": "9a320e67",
   "metadata": {},
   "source": [
    "<h1>Today's example: multiplication rule</h1>\n",
    "\n",
    "<p>You're making a single flavor, single topping ice cream. You have chocolate, vainilla and strawberry flavors, it can eaten in a cup or a waffle cone and finally it can be toped with fresh fruit, chocolate chips or dulce de leche.</p>\n",
    "\n",
    "<p>Make a program that displays all possible combinations</p>"
   ]
  },
  {
   "cell_type": "code",
   "execution_count": null,
   "id": "32ed25e2",
   "metadata": {},
   "outputs": [],
   "source": [
    "allflavors=[\"chocolate\", \"vainilla\", \"strawberry\"];\n",
    "allservings=[\"waffle cone\",\"cup\"];\n",
    "alltoppings=[\"fresh fruit\", \"chocolate chips\", \"dulce de leche\"];\n",
    "\n",
    "for flavor in allflavors:\n",
    "    for serving in allservings:\n",
    "        for topping in alltoppings:\n",
    "            print( flavor+\" ice cream with \"+topping+\", in a \"+serving );\n"
   ]
  }
 ],
 "metadata": {
  "kernelspec": {
   "display_name": "Python 3",
   "language": "python",
   "name": "python3"
  },
  "language_info": {
   "codemirror_mode": {
    "name": "ipython",
    "version": 3
   },
   "file_extension": ".py",
   "mimetype": "text/x-python",
   "name": "python",
   "nbconvert_exporter": "python",
   "pygments_lexer": "ipython3",
   "version": "3.8.8"
  }
 },
 "nbformat": 4,
 "nbformat_minor": 5
}
